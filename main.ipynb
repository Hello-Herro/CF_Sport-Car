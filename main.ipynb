{
 "cells": [
  {
   "cell_type": "code",
   "execution_count": 1,
   "metadata": {},
   "outputs": [],
   "source": [
    "import pandas as pd\n",
    "from sklearn.feature_extraction.text import TfidfVectorizer\n",
    "from sklearn.metrics.pairwise import linear_kernel"
   ]
  },
  {
   "cell_type": "code",
   "execution_count": 2,
   "metadata": {},
   "outputs": [],
   "source": [
    "df = pd.read_csv(\"Sport car price.csv\")"
   ]
  },
  {
   "cell_type": "code",
   "execution_count": 3,
   "metadata": {},
   "outputs": [],
   "source": [
    "# Menggabungkan kolom 1 dan kolom 2\n",
    "df['Car'] = df['Car Make'].astype(str) + \" \" + df['Car Model'].astype(str)\n",
    "\n",
    "# Menghapus kolom 1 dan kolom 2\n",
    "df = df.drop(['Car Make', 'Car Model'], axis=1)\n",
    "\n",
    "# Menentukan posisi kolom baru (kolom_gabungan) di DataFrame\n",
    "posisi_kolom_baru = 0  # Misalnya, posisi pertama\n",
    "\n",
    "# Memindahkan kolom baru ke posisi yang diinginkan\n",
    "df.insert(posisi_kolom_baru, 'Car', df.pop('Car'))\n",
    "\n",
    "# Memilih fitur yang akan digunakan untuk pengelompokan\n",
    "features = df[['Engine Size (L)', 'Horsepower', 'Torque (lb-ft)', '0-60 MPH Time (seconds)', 'Price (in USD)']]\n",
    "\n",
    "# Mengonversi nilai-nilai fitur ke dalam bentuk teks\n",
    "features = features.astype(str).apply(' '.join, axis=1)\n",
    "\n",
    "# Membangun matriks TF-IDF dari teks fitur\n",
    "tfidf_vectorizer = TfidfVectorizer()\n",
    "tfidf_matrix = tfidf_vectorizer.fit_transform(features)\n",
    "\n",
    "# Menghitung kesamaan kosinus antar mobil\n",
    "cosine_similarities = linear_kernel(tfidf_matrix, tfidf_matrix)"
   ]
  },
  {
   "cell_type": "code",
   "execution_count": 4,
   "metadata": {},
   "outputs": [],
   "source": [
    "# Fungsi untuk mendapatkan rekomendasi berdasarkan kesamaan kosinus\n",
    "def get_recommendations(car_name, cosine_similarities, df):\n",
    "    car_index = df.index[df['Car'] == car_name].tolist()[0]\n",
    "    similar_cars = list(enumerate(cosine_similarities[car_index]))\n",
    "    similar_cars = sorted(similar_cars, key=lambda x: x[1], reverse=True)\n",
    "    similar_cars = similar_cars[1:16]  # Mengambil 5 mobil teratas (tidak termasuk dirinya sendiri)\n",
    "    recommended_cars = [df.iloc[i[0]]['Car'] for i in similar_cars]\n",
    "    return recommended_cars\n"
   ]
  },
  {
   "cell_type": "code",
   "execution_count": 5,
   "metadata": {},
   "outputs": [
    {
     "name": "stdout",
     "output_type": "stream",
     "text": [
      "Rekomendasi mobil untuk Toyota Supra:\n",
      "['Toyota GR Supra', 'Toyota Supra', 'Toyota GR Supra', 'Toyota Supra', 'Ford Mustang GT', 'Mercedes-Benz AMG A45', 'Kia Stinger', 'BMW Z4 M40i', 'BMW Z4 M40i', 'Nissan 370Z', 'Nissan 370Z', 'Nissan 370Z', 'Nissan 370Z Coupe', 'Nissan 370Z', 'Nissan 370Z']\n"
     ]
    }
   ],
   "source": [
    "# Contoh penggunaan untuk mendapatkan rekomendasi mobil\n",
    "car_name = 'Toyota Supra'\n",
    "recommendations = get_recommendations(car_name, cosine_similarities, df)\n",
    "\n",
    "# Menampilkan hasil rekomendasi\n",
    "print(f'Rekomendasi mobil untuk {car_name}:')\n",
    "print(recommendations)"
   ]
  }
 ],
 "metadata": {
  "kernelspec": {
   "display_name": "Python 3",
   "language": "python",
   "name": "python3"
  },
  "language_info": {
   "codemirror_mode": {
    "name": "ipython",
    "version": 3
   },
   "file_extension": ".py",
   "mimetype": "text/x-python",
   "name": "python",
   "nbconvert_exporter": "python",
   "pygments_lexer": "ipython3",
   "version": "3.11.5"
  }
 },
 "nbformat": 4,
 "nbformat_minor": 2
}
